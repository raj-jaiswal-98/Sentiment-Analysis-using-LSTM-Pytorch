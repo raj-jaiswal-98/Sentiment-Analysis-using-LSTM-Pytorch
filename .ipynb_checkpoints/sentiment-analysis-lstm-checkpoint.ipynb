{
 "cells": [
  {
   "cell_type": "code",
   "execution_count": 1,
   "metadata": {
    "tags": []
   },
   "outputs": [],
   "source": [
    "# This Python 3 environment comes with many helpful analytics libraries installed\n",
    "# It is defined by the kaggle/python Docker image: https://github.com/kaggle/docker-python\n",
    "# For example, here's several helpful packages to load\n",
    "\n",
    "import numpy as np # linear algebra\n",
    "import pandas as pd # data processing, CSV file I/O (e.g. pd.read_csv)\n",
    "import torch\n",
    "import torch.nn as nn\n",
    "import torch.nn.functional as F\n",
    "from nltk.corpus import stopwords \n",
    "import nltk\n",
    "from collections import Counter\n",
    "import string\n",
    "import re\n",
    "import seaborn as sns\n",
    "from tqdm import tqdm\n",
    "import matplotlib.pyplot as plt\n",
    "from torch.utils.data import TensorDataset, DataLoader\n",
    "from sklearn.model_selection import train_test_split\n",
    "\n",
    "# Input data files are available in the read-only \"../input/\" directory\n",
    "# For example, running this (by clicking run or pressing Shift+Enter) will list all files under the input directory\n",
    "\n",
    "import os\n",
    "for dirname, _, filenames in os.walk('/kaggle/input'):\n",
    "    for filename in filenames:\n",
    "        print(os.path.join(dirname, filename))\n",
    "\n",
    "# You can write up to 20GB to the current directory (/kaggle/working/) that gets preserved as output when you create a version using \"Save & Run All\" \n",
    "# You can also write temporary files to /kaggle/temp/, but they won't be saved outside of the current session"
   ]
  },
  {
   "cell_type": "code",
   "execution_count": 2,
   "metadata": {
    "tags": []
   },
   "outputs": [
    {
     "name": "stdout",
     "output_type": "stream",
     "text": [
      "GPU is available\n"
     ]
    }
   ],
   "source": [
    "is_cuda = torch.cuda.is_available()\n",
    "\n",
    "# If we have a GPU available, we'll set our device to GPU. We'll use this device variable later in our code.\n",
    "if is_cuda:\n",
    "    device = torch.device(\"cuda\")\n",
    "    print(\"GPU is available\")\n",
    "else:\n",
    "    device = torch.device(\"cpu\")\n",
    "    print(\"GPU not available, CPU used\")"
   ]
  },
  {
   "cell_type": "markdown",
   "metadata": {},
   "source": [
    "Gathering Data"
   ]
  },
  {
   "cell_type": "code",
   "execution_count": 3,
   "metadata": {
    "tags": []
   },
   "outputs": [
    {
     "data": {
      "text/html": [
       "<div>\n",
       "<style scoped>\n",
       "    .dataframe tbody tr th:only-of-type {\n",
       "        vertical-align: middle;\n",
       "    }\n",
       "\n",
       "    .dataframe tbody tr th {\n",
       "        vertical-align: top;\n",
       "    }\n",
       "\n",
       "    .dataframe thead th {\n",
       "        text-align: right;\n",
       "    }\n",
       "</style>\n",
       "<table border=\"1\" class=\"dataframe\">\n",
       "  <thead>\n",
       "    <tr style=\"text-align: right;\">\n",
       "      <th></th>\n",
       "      <th>review</th>\n",
       "      <th>sentiment</th>\n",
       "    </tr>\n",
       "  </thead>\n",
       "  <tbody>\n",
       "    <tr>\n",
       "      <th>0</th>\n",
       "      <td>One of the other reviewers has mentioned that ...</td>\n",
       "      <td>positive</td>\n",
       "    </tr>\n",
       "    <tr>\n",
       "      <th>1</th>\n",
       "      <td>A wonderful little production. &lt;br /&gt;&lt;br /&gt;The...</td>\n",
       "      <td>positive</td>\n",
       "    </tr>\n",
       "    <tr>\n",
       "      <th>2</th>\n",
       "      <td>I thought this was a wonderful way to spend ti...</td>\n",
       "      <td>positive</td>\n",
       "    </tr>\n",
       "    <tr>\n",
       "      <th>3</th>\n",
       "      <td>Basically there's a family where a little boy ...</td>\n",
       "      <td>negative</td>\n",
       "    </tr>\n",
       "    <tr>\n",
       "      <th>4</th>\n",
       "      <td>Petter Mattei's \"Love in the Time of Money\" is...</td>\n",
       "      <td>positive</td>\n",
       "    </tr>\n",
       "    <tr>\n",
       "      <th>...</th>\n",
       "      <td>...</td>\n",
       "      <td>...</td>\n",
       "    </tr>\n",
       "    <tr>\n",
       "      <th>49995</th>\n",
       "      <td>I thought this movie did a down right good job...</td>\n",
       "      <td>positive</td>\n",
       "    </tr>\n",
       "    <tr>\n",
       "      <th>49996</th>\n",
       "      <td>Bad plot, bad dialogue, bad acting, idiotic di...</td>\n",
       "      <td>negative</td>\n",
       "    </tr>\n",
       "    <tr>\n",
       "      <th>49997</th>\n",
       "      <td>I am a Catholic taught in parochial elementary...</td>\n",
       "      <td>negative</td>\n",
       "    </tr>\n",
       "    <tr>\n",
       "      <th>49998</th>\n",
       "      <td>I'm going to have to disagree with the previou...</td>\n",
       "      <td>negative</td>\n",
       "    </tr>\n",
       "    <tr>\n",
       "      <th>49999</th>\n",
       "      <td>No one expects the Star Trek movies to be high...</td>\n",
       "      <td>negative</td>\n",
       "    </tr>\n",
       "  </tbody>\n",
       "</table>\n",
       "<p>50000 rows × 2 columns</p>\n",
       "</div>"
      ],
      "text/plain": [
       "                                                  review sentiment\n",
       "0      One of the other reviewers has mentioned that ...  positive\n",
       "1      A wonderful little production. <br /><br />The...  positive\n",
       "2      I thought this was a wonderful way to spend ti...  positive\n",
       "3      Basically there's a family where a little boy ...  negative\n",
       "4      Petter Mattei's \"Love in the Time of Money\" is...  positive\n",
       "...                                                  ...       ...\n",
       "49995  I thought this movie did a down right good job...  positive\n",
       "49996  Bad plot, bad dialogue, bad acting, idiotic di...  negative\n",
       "49997  I am a Catholic taught in parochial elementary...  negative\n",
       "49998  I'm going to have to disagree with the previou...  negative\n",
       "49999  No one expects the Star Trek movies to be high...  negative\n",
       "\n",
       "[50000 rows x 2 columns]"
      ]
     },
     "execution_count": 3,
     "metadata": {},
     "output_type": "execute_result"
    }
   ],
   "source": [
    "base_csv = pd.read_csv('IMDB Dataset.csv')\n",
    "base_csv"
   ]
  },
  {
   "cell_type": "markdown",
   "metadata": {},
   "source": [
    "Seperating Train and Test data"
   ]
  },
  {
   "cell_type": "code",
   "execution_count": 4,
   "metadata": {},
   "outputs": [
    {
     "name": "stdout",
     "output_type": "stream",
     "text": [
      "(37500,)\n",
      "(12500,)\n"
     ]
    }
   ],
   "source": [
    "X, y = base_csv['review'].values, base_csv['sentiment'].values\n",
    "x_train, x_test, y_train, y_test = train_test_split(X, y, stratify = y)\n",
    "print(x_train.shape)\n",
    "print(x_test.shape)"
   ]
  },
  {
   "cell_type": "markdown",
   "metadata": {},
   "source": [
    "**Performing data analysis**"
   ]
  },
  {
   "cell_type": "code",
   "execution_count": 5,
   "metadata": {},
   "outputs": [
    {
     "name": "stdout",
     "output_type": "stream",
     "text": [
      "negative    18750\n",
      "positive    18750\n",
      "dtype: int64\n"
     ]
    },
    {
     "data": {
      "image/png": "[encoded data removed]",
      "text/plain": [
       "<Figure size 640x480 with 1 Axes>"
      ]
     },
     "metadata": {},
     "output_type": "display_data"
    }
   ],
   "source": [
    "dd = pd.Series(y_train).value_counts()\n",
    "print(dd)\n",
    "sns.barplot(x = np.array(['positive', 'negative']), y = dd.values)\n",
    "plt.show()"
   ]
  },
  {
   "cell_type": "markdown",
   "metadata": {},
   "source": [
    "**Preprocess String**\n",
    "Remove all characters except letters and digits\n",
    "Remove extra white spaces\n",
    "Remove digits"
   ]
  },
  {
   "cell_type": "code",
   "execution_count": 6,
   "metadata": {},
   "outputs": [],
   "source": [
    "def preprocess_string(s):\n",
    "    # remove all characters except letters and digits\n",
    "    s = re.sub(r\"[^\\w\\s]\", '', s)\n",
    "    #remove all extra whites spaces\n",
    "    s = re.sub(r\"\\s+\", '', s)\n",
    "    #remove digits\n",
    "    s = re.sub(r\"\\d\", '', s)\n",
    "    return s"
   ]
  },
  {
   "cell_type": "markdown",
   "metadata": {},
   "source": [
    "**Tokenization**\n",
    "\n",
    "Converts a sentence to its token vector and converts sentiment vector to its corresponding boolen vector"
   ]
  },
  {
   "cell_type": "code",
   "execution_count": 7,
   "metadata": {},
   "outputs": [],
   "source": [
    "def create_word_list(x_train):\n",
    "    word_list = []\n",
    "    stop_words = set(stopwords.words('english'))\n",
    "    for sent in x_train:\n",
    "        for word in sent.lower().split(' '):\n",
    "            word = preprocess_string(word)\n",
    "            if word not in stop_words and word != '':\n",
    "                word_list.append(word)\n",
    "    return word_list\n",
    "word_list = create_word_list(x_train)"
   ]
  },
  {
   "cell_type": "code",
   "execution_count": 8,
   "metadata": {},
   "outputs": [],
   "source": [
    "def tokenize(x_train, y_train, x_test, y_test):\n",
    "    corpus = Counter(word_list)\n",
    "    corpus_ = sorted(corpus.items(), key = lambda x: x[1], reverse=True)[:1000]\n",
    "    onehot_dict = {w[0]:i+1 for i, w in enumerate(corpus_)}\n",
    "#     return onehot_dict\n",
    "    final_list_train,final_list_test = [],[]\n",
    "    for sent in x_train:\n",
    "            final_list_train.append([onehot_dict[preprocess_string(word)] for word in sent.lower().split() \n",
    "                                     if preprocess_string(word) in onehot_dict.keys()])\n",
    "    for sent in x_test:\n",
    "            final_list_test.append([onehot_dict[preprocess_string(word)] for word in sent.lower().split() \n",
    "                                    if preprocess_string(word) in onehot_dict.keys()])\n",
    "            \n",
    "    encoded_train = [1 if label =='positive' else 0 for label in y_train]  \n",
    "    encoded_test = [1 if label =='positive' else 0 for label in y_test] \n",
    "    return np.array(final_list_train), np.array(encoded_train),np.array(final_list_test), np.array(encoded_test),onehot_dict\n",
    "    "
   ]
  },
  {
   "cell_type": "code",
   "execution_count": 9,
   "metadata": {},
   "outputs": [],
   "source": [
    "def tockenize(x_train,y_train,x_val,y_val):\n",
    "#     word_list = []\n",
    "\n",
    "#     stop_words = set(stopwords.words('english')) \n",
    "#     for sent in x_train:\n",
    "#         for word in sent.lower().split():\n",
    "#             word = preprocess_string(word)\n",
    "#             if word not in stop_words and word != '':\n",
    "#                 word_list.append(word)\n",
    "  \n",
    "    corpus = Counter(word_list)\n",
    "    # sorting on the basis of most common words\n",
    "    corpus_ = sorted(corpus,key=corpus.get,reverse=True)[:1000]\n",
    "    # creating a dict\n",
    "    onehot_dict = {w:i+1 for i,w in enumerate(corpus_)}\n",
    "    return onehot_dict\n",
    "    # tockenize\n",
    "#     final_list_train,final_list_test = [],[]\n",
    "#     for sent in x_train:\n",
    "#             final_list_train.append([onehot_dict[preprocess_string(word)] for word in sent.lower().split() \n",
    "#                                      if preprocess_string(word) in onehot_dict.keys()])\n",
    "#     for sent in x_val:\n",
    "#             final_list_test.append([onehot_dict[preprocess_string(word)] for word in sent.lower().split() \n",
    "#                                     if preprocess_string(word) in onehot_dict.keys()])\n",
    "            \n",
    "#     encoded_train = [1 if label =='positive' else 0 for label in y_train]  \n",
    "#     encoded_test = [1 if label =='positive' else 0 for label in y_val] \n",
    "#     return np.array(final_list_train), np.array(encoded_train),np.array(final_list_test), np.array(encoded_test),onehot_dict"
   ]
  },
  {
   "cell_type": "code",
   "execution_count": 10,
   "metadata": {},
   "outputs": [
    {
     "name": "stderr",
     "output_type": "stream",
     "text": [
      "C:\\Users\\rajwa\\AppData\\Local\\Temp\\ipykernel_10512\\2573382031.py:16: VisibleDeprecationWarning: Creating an ndarray from ragged nested sequences (which is a list-or-tuple of lists-or-tuples-or ndarrays with different lengths or shapes) is deprecated. If you meant to do this, you must specify 'dtype=object' when creating the ndarray.\n",
      "  return np.array(final_list_train), np.array(encoded_train),np.array(final_list_test), np.array(encoded_test),onehot_dict\n"
     ]
    }
   ],
   "source": [
    "x_train, y_train, x_test, y_test, vocab = tokenize(x_train, y_train, x_test, y_test)\n"
   ]
  },
  {
   "cell_type": "code",
   "execution_count": 11,
   "metadata": {},
   "outputs": [
    {
     "data": {
      "text/plain": [
       "array([list([11, 2, 221, 76, 22, 10, 59, 922, 101, 159, 773, 158, 1, 2, 608, 71, 179, 84, 651, 409, 62, 916, 54, 82, 101, 22, 76, 22, 118, 19, 4, 19, 662, 872, 163, 159, 246, 6, 370, 114, 314, 84, 630, 222, 266, 545, 269, 464, 5, 30, 792, 101, 315, 19, 266, 356, 411, 19, 70, 52, 5, 294, 11, 807, 29, 159, 22, 6, 821, 567, 31, 253, 364, 4, 356, 45, 1, 250, 125, 727, 51, 221, 2, 15, 11, 218, 112, 81, 38, 15, 11, 105, 19, 33, 62, 963, 14, 45, 224, 441, 531, 605, 22, 4, 341, 15, 11, 1, 185, 101, 348, 148, 30, 71, 380, 4, 59, 590, 133, 71, 429, 557, 879, 181, 13, 52, 617, 30, 183, 54, 748, 10, 13, 124, 173, 6, 796, 15, 2, 6, 805, 12, 4, 6, 57, 16, 14, 162, 2, 596, 195, 142, 183, 14, 59, 96, 14, 29, 356, 805, 467, 713, 404, 6, 697, 31, 269, 162, 12, 19, 478, 14, 200, 404, 81, 5, 58, 2, 317, 17, 12, 1, 46, 381, 118, 19, 22, 937, 71, 57, 153, 71, 409, 295, 524, 160, 129, 19, 295, 159, 31, 19, 5, 295, 101, 22, 159, 107, 101, 1, 19, 129, 557, 411, 401]),\n",
       "       list([172, 314, 2, 850, 54, 208, 685, 49, 2, 192, 685, 343, 138, 150, 525, 34, 138, 60, 7, 1, 324, 37, 18, 379, 18, 248, 796, 122, 1, 302, 501]),\n",
       "       list([316, 2, 599, 287, 59, 232, 133, 56, 67, 67, 138, 685, 616, 138, 138, 4, 279, 121, 112, 6, 65, 17, 969, 2, 650, 301, 6, 356, 779, 553, 367, 13, 194, 77, 67, 41, 16, 315, 67, 192, 332, 316, 15, 188, 192, 9, 332, 16, 188, 87, 73, 863, 115, 19, 371, 17, 817, 13, 167, 198]),\n",
       "       ...,\n",
       "       list([5, 108, 193, 219, 2, 436, 35, 1, 198, 513, 413, 42, 21, 99, 33, 529, 141, 203, 51, 10, 300, 409, 224, 108, 476, 62, 512, 51, 10, 1, 21, 563, 442, 650, 275, 15, 4, 281]),\n",
       "       list([2, 470, 6, 27, 18, 124, 402, 232, 7, 423, 32, 175, 117, 287, 95, 509, 659, 515, 759, 19, 905, 259, 55, 15, 1, 1, 12, 120, 311, 400, 860, 81, 128, 6, 606, 62, 197, 110, 55, 195, 1, 1, 167, 10, 167, 9, 748, 216, 931]),\n",
       "       list([97, 211, 72, 3, 23, 7, 211, 679, 137, 71, 212, 191, 570, 395, 212, 71, 150, 395, 886, 346, 577, 283, 139, 8, 110, 55, 43, 325, 110, 55, 294, 372, 346, 403, 162, 162, 400, 53, 433, 354, 21, 83, 96, 142, 166, 398, 3, 39, 86, 6, 755, 38, 126, 72, 12, 4, 166, 398, 2, 109, 3, 788, 597, 184, 25, 2, 27, 4, 996, 887, 2, 55, 90, 184, 4, 34, 3, 249, 34, 711, 34, 3, 175, 117, 690, 142, 62, 46, 20, 9, 582, 2, 105, 560, 105, 556, 133, 228, 9, 144, 228, 9, 454, 297, 69, 253, 2, 108, 298, 17, 86, 6, 39, 20, 930, 37, 249, 4, 390, 101, 24, 9])],\n",
       "      dtype=object)"
      ]
     },
     "execution_count": 11,
     "metadata": {},
     "output_type": "execute_result"
    }
   ],
   "source": [
    "x_train"
   ]
  },
  {
   "cell_type": "code",
   "execution_count": 12,
   "metadata": {},
   "outputs": [
    {
     "data": {
      "text/plain": [
       "1000"
      ]
     },
     "execution_count": 12,
     "metadata": {},
     "output_type": "execute_result"
    }
   ],
   "source": [
    "len(vocab)"
   ]
  },
  {
   "cell_type": "markdown",
   "metadata": {},
   "source": [
    "**Analysing our data**"
   ]
  },
  {
   "cell_type": "code",
   "execution_count": 13,
   "metadata": {},
   "outputs": [
    {
     "data": {
      "image/png": "[encoded data removed]",
      "text/plain": [
       "<Figure size 640x480 with 1 Axes>"
      ]
     },
     "metadata": {},
     "output_type": "display_data"
    },
    {
     "data": {
      "text/plain": [
       "count    37500.000000\n",
       "mean        69.280533\n",
       "std         48.234108\n",
       "min          2.000000\n",
       "25%         39.000000\n",
       "50%         54.000000\n",
       "75%         85.000000\n",
       "max        652.000000\n",
       "dtype: float64"
      ]
     },
     "execution_count": 13,
     "metadata": {},
     "output_type": "execute_result"
    }
   ],
   "source": [
    "rev_len = [len(i) for i in x_train]\n",
    "pd.Series(rev_len).hist()\n",
    "plt.show()\n",
    "pd.Series(rev_len).describe()"
   ]
  },
  {
   "cell_type": "markdown",
   "metadata": {},
   "source": [
    "yeaaa!!"
   ]
  },
  {
   "cell_type": "markdown",
   "metadata": {},
   "source": [
    "**Key Observations from EDA**\n",
    "\n",
    "* Mean length of words in reviews is around 69\n",
    "* Minimum length is 2\n",
    "* Some reviews are quite large and approx 75 % of data has less than 84 reviews. These too large reviews can be studied manually or seperately"
   ]
  },
  {
   "cell_type": "markdown",
   "metadata": {},
   "source": [
    "**Padding**\n",
    "\n",
    "Now, we will padd the reviews to a max length so that each review has equal length"
   ]
  },
  {
   "cell_type": "code",
   "execution_count": 14,
   "metadata": {},
   "outputs": [],
   "source": [
    "def padding(sents, seq_len):\n",
    "    features = np.zeros((len(sents), seq_len), dtype = int)\n",
    "    for i, rev in enumerate(sents):\n",
    "        if len(rev) != 0:\n",
    "            features[i, -len(rev):] = np.array(rev)[:seq_len]\n",
    "    return features"
   ]
  },
  {
   "cell_type": "code",
   "execution_count": 15,
   "metadata": {},
   "outputs": [],
   "source": [
    "# we have very less number of reviews of length > 500, so we will take review uptill length 500 only\n",
    "x_train_pad = padding(x_train, 500)\n",
    "x_test_pad = padding(x_test, 500)"
   ]
  },
  {
   "cell_type": "markdown",
   "metadata": {},
   "source": [
    "**Loading Data as Tensors**"
   ]
  },
  {
   "cell_type": "code",
   "execution_count": 16,
   "metadata": {},
   "outputs": [],
   "source": [
    "train_data = TensorDataset(torch.from_numpy(x_train_pad), torch.from_numpy(y_train))\n",
    "test_data = TensorDataset(torch.from_numpy(x_test_pad), torch.from_numpy(y_test))\n",
    "\n",
    "# batch size\n",
    "batch_size = 50\n",
    "\n",
    "# shuffle data\n",
    "\n",
    "train_loader = DataLoader(train_data, shuffle=True, batch_size = batch_size)\n",
    "test_loader = DataLoader(test_data, shuffle= True, batch_size = batch_size)"
   ]
  },
  {
   "cell_type": "code",
   "execution_count": 17,
   "metadata": {},
   "outputs": [
    {
     "name": "stdout",
     "output_type": "stream",
     "text": [
      "torch.Size([50, 500])\n",
      "torch.Size([50])\n",
      "tensor([[  0,   0,   0,  ..., 189, 717, 766],\n",
      "        [  0,   0,   0,  ...,  58, 757,   2],\n",
      "        [  0,   0,   0,  ...,  74,  22,   8],\n",
      "        ...,\n",
      "        [  0,   0,   0,  ...,  25,  14, 970],\n",
      "        [  0,   0,   0,  ..., 167, 866, 504],\n",
      "        [  0,   0,   0,  ...,  40,   3,  23]], dtype=torch.int32)\n",
      "tensor([0, 0, 0, 0, 0, 0, 0, 1, 1, 0, 1, 1, 1, 0, 0, 1, 0, 0, 1, 0, 0, 0, 0, 1,\n",
      "        0, 0, 0, 0, 1, 1, 0, 1, 0, 0, 0, 0, 1, 0, 0, 1, 0, 1, 1, 1, 0, 1, 0, 0,\n",
      "        0, 1], dtype=torch.int32)\n"
     ]
    }
   ],
   "source": [
    "for i, batch in enumerate(train_loader):\n",
    "#     print(len(batch))\n",
    "    print(batch[0].shape)\n",
    "    print(batch[1].shape)\n",
    "    print(batch[0])\n",
    "    print(batch[1])\n",
    "\n",
    "    break"
   ]
  },
  {
   "cell_type": "code",
   "execution_count": 18,
   "metadata": {},
   "outputs": [
    {
     "name": "stdout",
     "output_type": "stream",
     "text": [
      "Size of Batch torch.Size([50, 500])\n",
      "Sample input tensor([[  0,   0,   0,  ..., 750, 134, 917],\n",
      "        [  0,   0,   0,  ...,  30,   3, 307],\n",
      "        [  0,   0,   0,  ...,   1, 139, 278],\n",
      "        ...,\n",
      "        [  0,   0,   0,  ..., 477, 407, 804],\n",
      "        [  0,   0,   0,  ...,  16, 204, 371],\n",
      "        [  0,   0,   0,  ...,   7, 235, 605]], dtype=torch.int32)\n",
      "Sample output tensor([1, 0, 0, 0, 1, 1, 0, 1, 1, 1, 1, 1, 1, 1, 1, 1, 1, 0, 0, 1, 0, 1, 0, 1,\n",
      "        1, 1, 1, 0, 1, 0, 0, 1, 0, 1, 1, 0, 1, 0, 0, 0, 1, 1, 1, 0, 1, 0, 0, 0,\n",
      "        1, 0], dtype=torch.int32)\n"
     ]
    }
   ],
   "source": [
    "#obtain one batch\n",
    "dataiter = iter(train_loader)\n",
    "sample_x, sample_y = next(dataiter)\n",
    "\n",
    "print(f\"Size of Batch {sample_x.size()}\")\n",
    "print(f\"Sample input {sample_x}\")\n",
    "print(f\"Sample output {sample_y}\")\n",
    "# obtain one batch of training data\n"
   ]
  },
  {
   "cell_type": "markdown",
   "metadata": {},
   "source": [
    "**We need to add an embedding layer because there are more words in out vocab and it is in-efficient to one_hot_encode that many words. So we will just find out word embedding using word2vec embedding layer and use that as lookup table, but we also just add extra layer, using it only for embeddings and let the network learn the weights itself**"
   ]
  },
  {
   "cell_type": "code",
   "execution_count": 19,
   "metadata": {},
   "outputs": [],
   "source": [
    "class SentimentLSTM(nn.Module):\n",
    "    def __init__(self, no_layers, vocab_size, hidden_dim, embedding_dim, drop_prob = 0.5):\n",
    "        super(SentimentLSTM, self).__init__()\n",
    "        \n",
    "        self.no_layers = no_layers\n",
    "        self.output_dim = output_dim\n",
    "        self.hidden_dim = hidden_dim\n",
    "        self.vocab_size = vocab_size\n",
    "        \n",
    "        #embedding layer\n",
    "        self.embedding = nn.Embedding(vocab_size, embedding_dim)  \n",
    "        \n",
    "        #LSTM\n",
    "        self.lstm = nn.LSTM(input_size = embedding_dim, hidden_size = self.hidden_dim, num_layers = no_layers, batch_first=True)\n",
    "        \n",
    "        #dropout layers\n",
    "        self.dropout = nn.Dropout(0.3)\n",
    "        \n",
    "        #linear and Sigmoid layer\n",
    "        \n",
    "        self.fc = nn.Linear(self.hidden_dim, self.output_dim)\n",
    "        self.sig = nn.Sigmoid()\n",
    "        \n",
    "    def forward(self, x, hidden):\n",
    "        # we just passed a batch\n",
    "        batch_size = x.size(0) # batch size -> B\n",
    "        #embed shape -> [B, max_len, embed_dim]\n",
    "        embeds = self.embedding(x)\n",
    "        \n",
    "        \n",
    "        lstm_out, hidden = self.lstm(embeds, hidden)\n",
    "        lstm_out = lstm_out.contiguous().view(-1, self.hidden_dim)\n",
    "        \n",
    "        \n",
    "        # drop out and fully connected\n",
    "        out = self.dropout(lstm_out)\n",
    "        out = self.fc(out)\n",
    "        \n",
    "        # sigmoid \n",
    "        \n",
    "        sig_out = self.sig(out)\n",
    "        \n",
    "        #reshape to batch size first\n",
    "        \n",
    "        sig_out = sig_out.view(batch_size, -1)\n",
    "        \n",
    "        sig_out = sig_out[:, -1]\n",
    "        \n",
    "        \n",
    "        return sig_out, hidden\n",
    "    \n",
    "    \n",
    "    def init_hidden(self, batch_size):\n",
    "        \n",
    "        # create hidden state and cell state tensors with size [no_layers x batch_size x hidden_dim]\n",
    "        \n",
    "        hidden_state = torch.zeros((self.no_layers, batch_size, self.hidden_dim)).to(device)\n",
    "        cell_state = torch.zeros((self.no_layers, batch_size, self.hidden_dim)).to(device)\n",
    "        hidden = (hidden_state, cell_state)\n",
    "        return hidden"
   ]
  },
  {
   "cell_type": "code",
   "execution_count": 20,
   "metadata": {},
   "outputs": [
    {
     "data": {
      "text/plain": [
       "SentimentLSTM(\n",
       "  (embedding): Embedding(1001, 64)\n",
       "  (lstm): LSTM(64, 256, num_layers=2, batch_first=True)\n",
       "  (dropout): Dropout(p=0.3, inplace=False)\n",
       "  (fc): Linear(in_features=256, out_features=1, bias=True)\n",
       "  (sig): Sigmoid()\n",
       ")"
      ]
     },
     "execution_count": 20,
     "metadata": {},
     "output_type": "execute_result"
    }
   ],
   "source": [
    "no_layers = 2 # no of layers in lstm\n",
    "vocab_size = len(vocab) + 1 # extra for 0 (padding symbol)\n",
    "embedding_dim = 64\n",
    "output_dim = 1\n",
    "hidden_dim = 256\n",
    "\n",
    "model = SentimentLSTM(no_layers, vocab_size, hidden_dim, embedding_dim, drop_prob = 0.5)\n",
    "# move operations on GPU\n",
    "model.to(device)\n",
    "model"
   ]
  },
  {
   "cell_type": "markdown",
   "metadata": {},
   "source": [
    "Now, model is ready. **Traning Phase**"
   ]
  },
  {
   "cell_type": "code",
   "execution_count": 21,
   "metadata": {},
   "outputs": [],
   "source": [
    "# loss and optimization features\n",
    "\n",
    "lr = 0.001\n",
    "criterion = nn.BCELoss()\n",
    "optimizer = torch.optim.Adam(model.parameters(), lr = lr)\n",
    "# accuracy function\n",
    "def accuracy(pred, label):\n",
    "    pred =torch.round(pred.squeeze())\n",
    "    return torch.sum(pred == label.squeeze()).item()"
   ]
  },
  {
   "cell_type": "markdown",
   "metadata": {},
   "source": [
    "**Training**"
   ]
  },
  {
   "cell_type": "code",
   "execution_count": 23,
   "metadata": {},
   "outputs": [
    {
     "name": "stdout",
     "output_type": "stream",
     "text": [
      "Epoch 1\n",
      "train_loss : 0.4229308822751045 test_loss : 0.3556612042784691\n",
      "train_accuracy : 80.97866666666667 test_accuracy : 84.72800000000001\n",
      "Validation loss decreased (inf --> 0.355661).  Saving model ...\n",
      "==================================================\n",
      "Epoch 2\n",
      "train_loss : 0.32792574940125147 test_loss : 0.3357208213806152\n",
      "train_accuracy : 85.88 test_accuracy : 85.72800000000001\n",
      "Validation loss decreased (0.355661 --> 0.335721).  Saving model ...\n",
      "==================================================\n",
      "Epoch 3\n",
      "train_loss : 0.3010317895412445 test_loss : 0.32785353443026544\n",
      "train_accuracy : 87.152 test_accuracy : 86.11999999999999\n",
      "Validation loss decreased (0.335721 --> 0.327854).  Saving model ...\n",
      "==================================================\n",
      "Epoch 4\n",
      "train_loss : 0.2792201054592927 test_loss : 0.33133913254737857\n",
      "train_accuracy : 88.18933333333334 test_accuracy : 85.64\n",
      "==================================================\n",
      "Epoch 5\n",
      "train_loss : 0.2519594584802787 test_loss : 0.3299460093677044\n",
      "train_accuracy : 89.45066666666666 test_accuracy : 85.88799999999999\n",
      "==================================================\n"
     ]
    }
   ],
   "source": [
    "clip = 5\n",
    "epochs = 5\n",
    "test_loss_min = np.Inf\n",
    "epoch_tr_loss, epoch_tst_loss = [], []\n",
    "epoch_tr_acc, epoch_tst_acc = [], []\n",
    "\n",
    "for epoch in range(epochs):\n",
    "    train_loss = []\n",
    "    train_acc = 0\n",
    "    h = model.init_hidden(batch_size)\n",
    "    model.train()\n",
    "    # processing each batch\n",
    "    for x, y in train_loader:\n",
    "        x, y = x.to(device), y.to(device)\n",
    "        \n",
    "        h = tuple([each.data for each in h])\n",
    "        model.zero_grad()\n",
    "        output, h = model(x, h)\n",
    "        \n",
    "        #calculate loss\n",
    "        \n",
    "        loss = criterion(output.squeeze(), y.float())\n",
    "        loss.backward()\n",
    "        train_loss.append(loss.item())\n",
    "        \n",
    "        #acuracy\n",
    "        \n",
    "        acc = accuracy(output, y)\n",
    "        \n",
    "        train_acc += acc\n",
    "        #clip_Grad_norm clips the grad or simply prevents exploding of gradient\n",
    "        nn.utils.clip_grad_norm_(model.parameters(), clip)\n",
    "        optimizer.step()\n",
    "        \n",
    "    test_h = model.init_hidden(batch_size)\n",
    "    test_loss = []\n",
    "    test_acc = 0\n",
    "    model.eval()\n",
    "    for x, y in test_loader:\n",
    "        x, y = x.to(device), y.to(device)\n",
    "        test_h = tuple([each.data for each in test_h])\n",
    "        \n",
    "        output, test_h = model(x, test_h)\n",
    "        \n",
    "        loss = criterion(output.squeeze(), y.float())\n",
    "        test_loss.append(loss.item())\n",
    "        \n",
    "        acc = accuracy(output, y)\n",
    "        \n",
    "        test_acc += acc\n",
    "        \n",
    "    epoch_train_loss = np.mean(train_loss) # take average loss for each batch\n",
    "    epoch_test_loss = np.mean(test_loss)\n",
    "    \n",
    "    epoch_tr_loss.append(epoch_train_loss)\n",
    "    epoch_tst_loss.append(epoch_test_loss)\n",
    "    \n",
    "    epoch_train_acc = train_acc / len(train_loader.dataset)\n",
    "    \n",
    "    epoch_test_acc = test_acc / len(test_loader.dataset)\n",
    "    \n",
    "    epoch_tr_acc.append(epoch_train_acc)\n",
    "    epoch_tst_acc.append(epoch_test_acc)\n",
    "    \n",
    "    print(f'Epoch {epoch+1}') \n",
    "    print(f'train_loss : {epoch_train_loss} test_loss : {epoch_test_loss}')\n",
    "    print(f'train_accuracy : {epoch_train_acc*100} test_accuracy : {epoch_test_acc*100}')\n",
    "    if epoch_test_loss <= test_loss_min:\n",
    "        torch.save(model.state_dict(), 'working/state_dict.pt')\n",
    "        print('Validation loss decreased ({:.6f} --> {:.6f}).  Saving model ...'.format(test_loss_min,epoch_test_loss))\n",
    "        test_loss_min = epoch_test_loss\n",
    "    print(25*'==')\n",
    "        \n",
    "        \n",
    "        \n",
    "    \n",
    "        "
   ]
  },
  {
   "cell_type": "code",
   "execution_count": 24,
   "metadata": {},
   "outputs": [
    {
     "data": {
      "image/png": "[encoded data removed]",
      "text/plain": [
       "<Figure size 2000x600 with 2 Axes>"
      ]
     },
     "metadata": {},
     "output_type": "display_data"
    }
   ],
   "source": [
    "fig = plt.figure(figsize = (20, 6))\n",
    "plt.subplot(1, 2, 1)\n",
    "plt.plot(epoch_tr_acc, label='Train Acc')\n",
    "plt.plot(epoch_tst_acc, label='Test Acc')\n",
    "plt.title(\"Accuracy\")\n",
    "plt.legend()\n",
    "plt.grid()\n",
    "    \n",
    "plt.subplot(1, 2, 2)\n",
    "plt.plot(epoch_tr_loss, label='Train loss')\n",
    "plt.plot(epoch_tst_loss, label='Test loss')\n",
    "plt.title(\"Loss\")\n",
    "plt.legend()\n",
    "plt.grid()\n",
    "\n",
    "plt.show()"
   ]
  },
  {
   "cell_type": "code",
   "execution_count": 25,
   "metadata": {},
   "outputs": [],
   "source": [
    "def predict_sentiment(text):\n",
    "    word_seq = np.array([vocab[preprocess_string(word)] for word in text.split() if preprocess_string(word) in vocab.keys()])\n",
    "    word_seq = np.expand_dims(word_seq, axis = 0)\n",
    "    print(word_seq)\n",
    "    pad = torch.from_numpy(padding(word_seq, 500))\n",
    "    \n",
    "    inputs = pad.to(device)\n",
    "    batch_size = 1\n",
    "    h = model.init_hidden(batch_size)\n",
    "    output, h = model(inputs, h)\n",
    "    return output.item()"
   ]
  },
  {
   "cell_type": "code",
   "execution_count": 26,
   "metadata": {},
   "outputs": [
    {
     "name": "stdout",
     "output_type": "stream",
     "text": [
      "The statement is:\n",
      "Taut and organically gripping, Edward Dmytryk's Crossfire is a distinctive suspense thriller, an unlikely \"message\" movie using the look and devices of the noir cycle.<br /><br />Bivouacked in Washington, DC, a company of soldiers cope with their restlessness by hanging out in bars. Three of them end up at a stranger's apartment where Robert Ryan, drunk and belligerent, beats their host (Sam Levene) to death because he happens to be Jewish. Police detective Robert Young investigates with the help of Robert Mitchum, who's assigned to Ryan's outfit. Suspicion falls on the second of the three (George Cooper), who has vanished. Ryan slays the third buddy (Steve Brodie) to insure his silence before Young closes in.<br /><br />Abetted by a superior script by John Paxton, Dmytryk draws precise performances from his three starring Bobs. Ryan, naturally, does his prototypical Angry White Male (and to the hilt), while Mitchum underplays with his characteristic alert nonchalance (his role, however, is not central); Young may never have been better. Gloria Grahame gives her first fully-fledged rendition of the smart-mouthed, vulnerable tramp, and, as a sad sack who's leeched into her life, Paul Kelly haunts us in a small, peripheral role that he makes memorable.<br /><br />The politically engaged Dmytryk perhaps inevitably succumbs to sermonizing, but it's pretty much confined to Young's reminiscence of how his Irish grandfather died at the hands of bigots a century earlier (thus, incidentally, stretching chronology to the limit). At least there's no attempt to render an explanation, however glib, of why Ryan hates Jews (and hillbillies and...).<br /><br />Curiously, Crossfire survives even the major change wrought upon it -- the novel it's based on (Richard Brooks' The Brick Foxhole) dealt with a gay-bashing murder. But homosexuality in 1947 was still Beyond The Pale. News of the Holocaust had, however, begun to emerge from the ashes of Europe, so Hollywood felt emboldened to register its protest against anti-Semitism (the studios always quaked at the prospect of offending any potential ticket buyer).<br /><br />But while the change from homophobia to anti-Semitism works in general, the specifics don't fit so smoothly. The victim's chatting up a lonesome, drunk young soldier then inviting him back home looks odd, even though (or especially since) there's a girlfriend in tow. It raises the question whether this scenario was retained inadvertently or left in as a discreet tip-off to the original engine generating Ryan's murderous rage.\n",
      "==================================================\n",
      "Original Sentiment is: positive\n",
      "==================================================\n",
      "[[ 670  641  624    2  645   70    1  935   49  224  423  227  700  608\n",
      "   228  175  767    1  132  248  175  121   91   98   35   45  288   20\n",
      "   498  700   43   77  286  121   66    1  270   86   14  958  769 1000\n",
      "   819  118  113  447   91    1    7  525  549  544  539  331  475   46\n",
      "    91  309  114  916    1  549  381  662   21  972   88   55  239  174\n",
      "   891    7   65  156  130  113  900  772  575  200  109]]\n",
      "Predicted Sentiment is negative with probability of 0.2933157980442047.\n"
     ]
    }
   ],
   "source": [
    "index = 30\n",
    "review, sentiment = base_csv['review'][index], base_csv['sentiment'][index]\n",
    "print(\"The statement is:\")\n",
    "print(review)\n",
    "print(\"==\"*25)\n",
    "print(f\"Original Sentiment is: {sentiment}\")\n",
    "print(\"==\"*25)\n",
    "pred = predict_sentiment(review)\n",
    "status = \"positive\" if pred > 0.5 else \"negative\"\n",
    "print(f\"Predicted Sentiment is {status} with probability of {pred}.\")"
   ]
  },
  {
   "cell_type": "code",
   "execution_count": null,
   "metadata": {},
   "outputs": [],
   "source": []
  }
 ],
 "metadata": {
  "kernelspec": {
   "display_name": "Python 3 (ipykernel)",
   "language": "python",
   "name": "python3"
  },
  "language_info": {
   "codemirror_mode": {
    "name": "ipython",
    "version": 3
   },
   "file_extension": ".py",
   "mimetype": "text/x-python",
   "name": "python",
   "nbconvert_exporter": "python",
   "pygments_lexer": "ipython3",
   "version": "3.9.13"
  }
 },
 "nbformat": 4,
 "nbformat_minor": 4
}
